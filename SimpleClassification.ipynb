{
 "cells": [
  {
   "cell_type": "code",
   "execution_count": null,
   "id": "873a6e21-ece0-4660-9eeb-40cca9543e29",
   "metadata": {},
   "outputs": [],
   "source": [
    "import tensorflow as tf\n",
    "from tensorflow import keras\n",
    " \n",
    "# Define a simple sequential model\n",
    "model = tf.keras.models.Sequential([\n",
    "   tf.keras.layers.Flatten(input_shape=(28, 28)),\n",
    "   tf.keras.layers.Dense(128, activation='relu'),\n",
    "   tf.keras.layers.Dropout(0.2),\n",
    "   tf.keras.layers.Dense(10)\n",
    "])\n",
    " \n",
    "model.compile(optimizer='adam',\n",
    "   loss=tf.keras.losses.SparseCategoricalCrossentropy(from_logits=True),\n",
    "   metrics=['accuracy'])"
   ]
  },
  {
   "cell_type": "code",
   "execution_count": null,
   "id": "bb776f8e-022b-4030-bc61-baca615487f1",
   "metadata": {},
   "outputs": [],
   "source": [
    "# !pip install --upgrade --index-url https://pypi.ngc.nvidia.com nvidia-tensorrt\n",
    "\n",
    "# import tensorrt as trt\n",
    "\n",
    "# trt.__version__"
   ]
  },
  {
   "cell_type": "code",
   "execution_count": null,
   "id": "986dbf09-ef06-4f50-9874-491da91f7a5d",
   "metadata": {},
   "outputs": [],
   "source": [
    "mnist = tf.keras.datasets.mnist\n",
    " \n",
    "(x_train, y_train), (x_test, y_test) = mnist.load_data()\n",
    "x_train, x_test = x_train / 255.0, x_test / 255.0\n",
    "x_train = tf.cast(x_train, dtype=tf.float32)\n",
    "y_train = tf.cast(y_train, dtype=tf.float32)\n",
    "x_test = tf.cast(x_test, dtype=tf.float32)\n",
    "y_test = tf.cast(y_test, dtype=tf.float32)"
   ]
  },
  {
   "cell_type": "code",
   "execution_count": null,
   "id": "e32a26d5-dab7-49aa-b36f-84cc9b53516f",
   "metadata": {},
   "outputs": [],
   "source": [
    "# Train the model\n",
    "model.fit(x_train, y_train, epochs=5)\n",
    " \n",
    "# Evaluate your model accuracy\n",
    "model.evaluate(x_test,  y_test, verbose=2)"
   ]
  },
  {
   "cell_type": "code",
   "execution_count": null,
   "id": "06f7beed-8493-4876-b987-beb395e058fb",
   "metadata": {},
   "outputs": [],
   "source": [
    "# Save model in the saved_model format\n",
    "SAVED_MODEL_DIR=\"./models/native_saved_model/\"\n",
    "model.save(SAVED_MODEL_DIR)"
   ]
  },
  {
   "cell_type": "code",
   "execution_count": null,
   "id": "ebb9dd5d-9a32-4ebe-9630-c05a877912f2",
   "metadata": {},
   "outputs": [],
   "source": [
    "!pip install onnxruntime\n",
    "!pip install git+https://github.com/onnx/tensorflow-onnx"
   ]
  },
  {
   "cell_type": "code",
   "execution_count": null,
   "id": "68cee53a-a33c-479b-a132-674c6f97acbc",
   "metadata": {},
   "outputs": [],
   "source": [
    "!python -m tf2onnx.convert --saved-model \"./models/native_saved_model\" --output model.onnx --opset 11 --verbose"
   ]
  },
  {
   "cell_type": "code",
   "execution_count": null,
   "id": "bf07030c-e931-4a77-b0d7-07048fa321ec",
   "metadata": {},
   "outputs": [],
   "source": []
  }
 ],
 "metadata": {
  "kernelspec": {
   "display_name": "tf",
   "language": "python",
   "name": "tf"
  },
  "language_info": {
   "codemirror_mode": {
    "name": "ipython",
    "version": 3
   },
   "file_extension": ".py",
   "mimetype": "text/x-python",
   "name": "python",
   "nbconvert_exporter": "python",
   "pygments_lexer": "ipython3",
   "version": "3.9.12"
  }
 },
 "nbformat": 4,
 "nbformat_minor": 5
}
